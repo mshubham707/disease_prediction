{
 "cells": [
  {
   "cell_type": "code",
   "execution_count": 1,
   "id": "7e2db7b3",
   "metadata": {},
   "outputs": [],
   "source": [
    "import pandas as pd\n",
    "import numpy as np\n",
    "from sklearn.model_selection import train_test_split, GridSearchCV\n",
    "from sklearn.linear_model import LogisticRegression\n",
    "from sklearn.ensemble import RandomForestClassifier, GradientBoostingClassifier\n",
    "from sklearn.metrics import classification_report\n",
    "import xgboost as xgb\n",
    "import joblib\n",
    "import os\n",
    "import warnings\n",
    "warnings.filterwarnings('ignore')\n"
   ]
  },
  {
   "cell_type": "code",
   "execution_count": 2,
   "id": "d11604e4",
   "metadata": {},
   "outputs": [
    {
     "data": {
      "text/plain": [
       "((4920, 48), (42, 48))"
      ]
     },
     "execution_count": 2,
     "metadata": {},
     "output_type": "execute_result"
    }
   ],
   "source": [
    "#Loading the processed data\n",
    "\n",
    "train_df = pd.read_csv('../data/processed/train_processed.csv')\n",
    "test_df = pd.read_csv('../data/processed/test_processed.csv')\n",
    "symptom_cols = [i for i in train_df.columns if i !=\"prognosis\"]\n",
    "train_df.shape, test_df.shape"
   ]
  },
  {
   "cell_type": "code",
   "execution_count": 3,
   "id": "f79d5f11",
   "metadata": {},
   "outputs": [
    {
     "name": "stdout",
     "output_type": "stream",
     "text": [
      "Symptom Columns (47): ['itching', 'nodal_skin_eruptions', 'shivering', 'ulcers_on_tongue', 'burning_micturition', 'spotting_ urination', 'weight_gain', 'anxiety', 'mood_swings', 'weight_loss', 'patches_in_throat', 'irregular_sugar_level', 'sunken_eyes', 'breathlessness', 'sweating', 'dehydration', 'dark_urine', 'nausea', 'mild_fever', 'yellow_urine', 'acute_liver_failure', 'swelling_of_stomach', 'swelled_lymph_nodes', 'weakness_in_limbs', 'pain_during_bowel_movements', 'swollen_legs', 'extra_marital_contacts', 'knee_pain', 'movement_stiffness', 'spinning_movements', 'foul_smell_of urine', 'passage_of_gases', 'muscle_pain', 'altered_sensorium', 'red_spots_over_body', 'belly_pain', 'dischromic _patches', 'watering_from_eyes', 'family_history', 'mucoid_sputum', 'rusty_sputum', 'lack_of_concentration', 'visual_disturbances', 'blackheads', 'scurring', 'skin_peeling', 'red_sore_around_nose']\n"
     ]
    }
   ],
   "source": [
    "#Separating target variable\n",
    "\n",
    "print(f\"Symptom Columns ({len(symptom_cols)}):\", symptom_cols)\n",
    "X = train_df[symptom_cols]\n",
    "y = train_df[\"prognosis\"]\n",
    "X_test = test_df[symptom_cols]\n",
    "y_test = test_df[\"prognosis\"]"
   ]
  },
  {
   "cell_type": "code",
   "execution_count": 4,
   "id": "d5212146",
   "metadata": {},
   "outputs": [
    {
     "name": "stdout",
     "output_type": "stream",
     "text": [
      "Training Split Shape: (3690, 47)\n",
      "Validation Split Shape: (1230, 47)\n"
     ]
    }
   ],
   "source": [
    "#Splitting training data to check for validation and tuning, test data will be used for final testing\n",
    "\n",
    "X_train, X_val, y_train, y_val = train_test_split(X, y, test_size=0.25, random_state=42)\n",
    "print(\"Training Split Shape:\", X_train.shape)\n",
    "print(\"Validation Split Shape:\", X_val.shape)"
   ]
  },
  {
   "cell_type": "code",
   "execution_count": 5,
   "id": "127c350b",
   "metadata": {},
   "outputs": [
    {
     "name": "stdout",
     "output_type": "stream",
     "text": [
      "\n",
      "Training LogisticRegression model...\n",
      "Results:\n",
      "Accuracy Score: 0.975609756097561\n",
      "Recall Score: 0.975609756097561\n",
      "Precision Score: 0.9832242669554937\n",
      "__________________________________________________\n",
      "\n",
      "Training RandomForest model...\n",
      "Results:\n",
      "Accuracy Score: 0.9747967479674797\n",
      "Recall Score: 0.9747967479674797\n",
      "Precision Score: 0.9824771536682256\n",
      "__________________________________________________\n",
      "\n",
      "Training GradientBoosting model...\n",
      "Results:\n",
      "Accuracy Score: 0.9747967479674797\n",
      "Recall Score: 0.9747967479674797\n",
      "Precision Score: 0.9824771536682256\n",
      "__________________________________________________\n",
      "\n",
      "Training XGBoost model...\n",
      "Results:\n",
      "Accuracy Score: 0.9747967479674797\n",
      "Recall Score: 0.9747967479674797\n",
      "Precision Score: 0.9824771536682256\n",
      "__________________________________________________\n"
     ]
    }
   ],
   "source": [
    "#Defining models\n",
    "from sklearn.metrics import accuracy_score, precision_score, recall_score\n",
    "models = {\n",
    "    'LogisticRegression': LogisticRegression(max_iter=1000, random_state=42),\n",
    "    'RandomForest': RandomForestClassifier(random_state=42),\n",
    "    'GradientBoosting': GradientBoostingClassifier(random_state=42),\n",
    "    'XGBoost': xgb.XGBClassifier(random_state=42, eval_metric='mlogloss')\n",
    "}\n",
    "\n",
    "results = {}\n",
    "for name, model in models.items():\n",
    "    print(f\"\\nTraining {name} model...\")\n",
    "    model.fit(X_train, y_train)\n",
    "    y_pred = model.predict(X_val)\n",
    "    results[name] = classification_report(y_val, y_pred, output_dict=True)\n",
    "    print(\"Results:\")\n",
    "    print(\"Accuracy Score:\",accuracy_score(y_val, y_pred))\n",
    "    print(\"Recall Score:\", recall_score(y_val, y_pred, average='weighted'))\n",
    "    print(\"Precision Score:\", precision_score(y_val, y_pred, average='weighted'))\n",
    "    print(\"_\"*50)\n",
    "\n"
   ]
  },
  {
   "cell_type": "markdown",
   "id": "daceb382",
   "metadata": {},
   "source": [
    "## Models Used\n",
    "### Logistic Regression\n",
    "- Baseline model for a classification problem\n",
    "### Random Forest \n",
    "- Robust and tree based model to handle dataset with large number of correlated features\n",
    "### Gradient Boosting\n",
    "- Sequential model to correct errors sequentially and potential for highly accurate predictions\n",
    "### XG Boost\n",
    "- Efficient and an advanced model to test for higher accuracy\n"
   ]
  },
  {
   "cell_type": "code",
   "execution_count": null,
   "id": "06209caf",
   "metadata": {},
   "outputs": [],
   "source": [
    "#Hyper Parameter tuning \n",
    "\n",
    "models = {\n",
    "    'LogisticRegression': {\n",
    "        'model': LogisticRegression(max_iter=1000, random_state=42),\n",
    "        'param_grid': {'C': [0.01, 0.1, 1, 10], 'solver': ['lbfgs', 'liblinear']}\n",
    "    },\n",
    "    'RandomForest': {\n",
    "        'model': RandomForestClassifier(random_state=42),\n",
    "        'param_grid': {\n",
    "            'n_estimators': [100, 200],\n",
    "            'max_depth': [10, 20, None],\n",
    "            'min_samples_split': [2, 5]\n",
    "        }\n",
    "    },\n",
    "    'GradientBoosting': {\n",
    "        'model': GradientBoostingClassifier(random_state=42),\n",
    "        'param_grid': {\n",
    "            'n_estimators': [100, 200],\n",
    "            'learning_rate': [0.01, 0.1],\n",
    "            'max_depth': [3, 5]\n",
    "        }\n",
    "    },\n",
    "    'XGBoost': {\n",
    "        'model': xgb.XGBClassifier(random_state=42, eval_metric='mlogloss'),\n",
    "        'param_grid': {\n",
    "            'n_estimators': [100, 200],\n",
    "            'learning_rate': [0.01, 0.1],\n",
    "            'max_depth': [3, 5]\n",
    "        }\n",
    "    }\n",
    "}\n"
   ]
  },
  {
   "cell_type": "code",
   "execution_count": 7,
   "id": "0839e6d9",
   "metadata": {},
   "outputs": [
    {
     "name": "stdout",
     "output_type": "stream",
     "text": [
      "\n",
      "Tuning LogisticRegression...\n",
      "Best LogisticRegression Parameters: {'C': 1, 'solver': 'lbfgs'}\n",
      "Best LogisticRegression CV Accuracy: 0.9745257452574526\n",
      "\n",
      "Validation Results for LogisticRegression:\n",
      "Accuracy Score: 0.975609756097561\n",
      "Recall Score: 0.9757738714078027\n",
      "Precision Score: 0.981443209359826\n",
      "____________________________________________________________________________________________________\n",
      "\n",
      "Tuning RandomForest...\n",
      "Best RandomForest Parameters: {'max_depth': None, 'min_samples_split': 2, 'n_estimators': 100}\n",
      "Best RandomForest CV Accuracy: 0.9742547425474255\n",
      "\n",
      "Validation Results for RandomForest:\n",
      "Accuracy Score: 0.9747967479674797\n",
      "Recall Score: 0.9743097611742709\n",
      "Precision Score: 0.9814096518009858\n",
      "____________________________________________________________________________________________________\n",
      "\n",
      "Tuning XGBoost...\n",
      "Best XGBoost Parameters: {'learning_rate': 0.1, 'max_depth': 3, 'n_estimators': 100}\n",
      "Best XGBoost CV Accuracy: 0.9739837398373984\n",
      "\n",
      "Validation Results for XGBoost:\n",
      "Accuracy Score: 0.9747967479674797\n",
      "Recall Score: 0.9743097611742709\n",
      "Precision Score: 0.9814096518009858\n",
      "____________________________________________________________________________________________________\n"
     ]
    }
   ],
   "source": [
    "results = {}\n",
    "best_models = {}\n",
    "best_scores = {}\n",
    "\n",
    "for name, config in models.items():\n",
    "    print(f\"\\nTuning {name}...\")\n",
    "    grid_search = GridSearchCV(\n",
    "        config['model'], config['param_grid'], cv=5, scoring='accuracy', n_jobs=-1)\n",
    "    grid_search.fit(X_train, y_train)\n",
    "    best_models[name] = grid_search.best_estimator_\n",
    "    best_scores[name] = grid_search.best_score_\n",
    "    print(f\"Best {name} Parameters:\", grid_search.best_params_)\n",
    "    print(f\"Best {name} CV Accuracy:\", grid_search.best_score_)\n",
    "    \n",
    "    \n",
    "    # Evaluate on validation set\n",
    "    y_pred = best_models[name].predict(X_val)\n",
    "    results[name] = classification_report(y_val, y_pred, output_dict=True)\n",
    "    print(f\"\\nValidation Results for {name}:\")\n",
    "    print(\"Accuracy Score:\",accuracy_score(y_val, y_pred))\n",
    "    print(\"Recall Score:\", recall_score(y_val, y_pred, average='macro'))\n",
    "    print(\"Precision Score:\", precision_score(y_val, y_pred, average='macro'))\n",
    "    print(\"_\"*100)\n"
   ]
  },
  {
   "cell_type": "markdown",
   "id": "f8af0fd3",
   "metadata": {},
   "source": [
    "- Out of all the trained models, the logistic regression model has given highest accuracy in both testing and cross validation.\n",
    "- Gradient boosting is taking too much time to tune and doesn't have any improvement over other so in the final code we will remove this model"
   ]
  },
  {
   "cell_type": "code",
   "execution_count": 8,
   "id": "4a95ff47",
   "metadata": {},
   "outputs": [
    {
     "name": "stdout",
     "output_type": "stream",
     "text": [
      "\n",
      "Selected 'LogisticRegression' with Test Accuracy: 0.9745\n"
     ]
    }
   ],
   "source": [
    "#Selecting best model\n",
    "best_model_name = max(best_scores,key=best_scores.get)\n",
    "best_model = best_models[best_model_name]\n",
    "print(f\"\\nSelected '{best_model_name}' with Test Accuracy: {best_scores[best_model_name]:.4f}\")"
   ]
  },
  {
   "cell_type": "code",
   "execution_count": 9,
   "id": "a6bd8db2",
   "metadata": {},
   "outputs": [],
   "source": [
    "#Fitting the best model and now testing on test data\n",
    "best_model.fit(X,y) #fitting the model on the train data provided\n",
    "y_test_pred = best_model.predict(X_test)"
   ]
  },
  {
   "cell_type": "code",
   "execution_count": 10,
   "id": "434d6b1f",
   "metadata": {},
   "outputs": [
    {
     "name": "stdout",
     "output_type": "stream",
     "text": [
      "\n",
      "Test Set Results for LogisticRegression:\n",
      "Accuracy Score: 0.9761904761904762\n",
      "Recall Score: 0.9878048780487805\n",
      "Precision Score: 0.9878048780487805\n",
      "              precision    recall  f1-score   support\n",
      "\n",
      "           0       1.00      1.00      1.00         1\n",
      "           1       1.00      1.00      1.00         1\n",
      "           2       1.00      1.00      1.00         1\n",
      "           3       1.00      1.00      1.00         1\n",
      "           4       1.00      1.00      1.00         1\n",
      "           5       1.00      1.00      1.00         1\n",
      "           6       1.00      1.00      1.00         1\n",
      "           7       1.00      1.00      1.00         1\n",
      "           8       1.00      1.00      1.00         1\n",
      "           9       1.00      1.00      1.00         1\n",
      "          10       1.00      1.00      1.00         1\n",
      "          11       1.00      1.00      1.00         1\n",
      "          12       1.00      1.00      1.00         1\n",
      "          13       1.00      1.00      1.00         1\n",
      "          14       1.00      1.00      1.00         1\n",
      "          15       1.00      0.50      0.67         2\n",
      "          16       1.00      1.00      1.00         1\n",
      "          17       1.00      1.00      1.00         1\n",
      "          18       1.00      1.00      1.00         1\n",
      "          19       1.00      1.00      1.00         1\n",
      "          20       1.00      1.00      1.00         1\n",
      "          21       1.00      1.00      1.00         1\n",
      "          22       1.00      1.00      1.00         1\n",
      "          23       1.00      1.00      1.00         1\n",
      "          24       1.00      1.00      1.00         1\n",
      "          25       1.00      1.00      1.00         1\n",
      "          26       1.00      1.00      1.00         1\n",
      "          27       0.50      1.00      0.67         1\n",
      "          28       1.00      1.00      1.00         1\n",
      "          29       1.00      1.00      1.00         1\n",
      "          30       1.00      1.00      1.00         1\n",
      "          31       1.00      1.00      1.00         1\n",
      "          32       1.00      1.00      1.00         1\n",
      "          33       1.00      1.00      1.00         1\n",
      "          34       1.00      1.00      1.00         1\n",
      "          35       1.00      1.00      1.00         1\n",
      "          36       1.00      1.00      1.00         1\n",
      "          37       1.00      1.00      1.00         1\n",
      "          38       1.00      1.00      1.00         1\n",
      "          39       1.00      1.00      1.00         1\n",
      "          40       1.00      1.00      1.00         1\n",
      "\n",
      "    accuracy                           0.98        42\n",
      "   macro avg       0.99      0.99      0.98        42\n",
      "weighted avg       0.99      0.98      0.98        42\n",
      "\n"
     ]
    }
   ],
   "source": [
    "#Accuracy Scores for test result\n",
    "\n",
    "print(f\"\\nTest Set Results for {best_model_name}:\")\n",
    "print(\"Accuracy Score:\", accuracy_score(y_test, y_test_pred))\n",
    "print(\"Recall Score:\", recall_score(y_test, y_test_pred, average=\"macro\"))\n",
    "print(\"Precision Score:\", precision_score(y_test, y_test_pred, average=\"macro\"))\n",
    "print(classification_report(y_test, y_test_pred))"
   ]
  },
  {
   "cell_type": "code",
   "execution_count": 11,
   "id": "63c4dd47",
   "metadata": {},
   "outputs": [
    {
     "name": "stdout",
     "output_type": "stream",
     "text": [
      "Test predictions saved to ../predictions.csv\n"
     ]
    }
   ],
   "source": [
    "#Saving the predictions\n",
    "\n",
    "test_predictions = pd.DataFrame({\n",
    "    'prognosis_encoded': y_test_pred,\n",
    "    'prognosis': joblib.load('../models/label_encoder.pkl').inverse_transform(y_test_pred)\n",
    "})\n",
    "test_predictions.to_csv('../predictions.csv', index=False)\n",
    "print(\"Test predictions saved to ../predictions.csv\")"
   ]
  },
  {
   "cell_type": "code",
   "execution_count": 12,
   "id": "20546bb2",
   "metadata": {},
   "outputs": [
    {
     "name": "stdout",
     "output_type": "stream",
     "text": [
      "Best model (LogisticRegression) saved to ../models/trained_model.pkl\n"
     ]
    }
   ],
   "source": [
    "#Saving the best model\n",
    "\n",
    "os.makedirs('../models', exist_ok=True)\n",
    "joblib.dump(best_model, '../models/trained_model.pkl')\n",
    "print(f\"Best model ({best_model_name}) saved to ../models/trained_model.pkl\")"
   ]
  },
  {
   "cell_type": "code",
   "execution_count": null,
   "id": "e93cdfc9",
   "metadata": {},
   "outputs": [],
   "source": []
  }
 ],
 "metadata": {
  "kernelspec": {
   "display_name": "dp_env (3.10.6)",
   "language": "python",
   "name": "python3"
  },
  "language_info": {
   "codemirror_mode": {
    "name": "ipython",
    "version": 3
   },
   "file_extension": ".py",
   "mimetype": "text/x-python",
   "name": "python",
   "nbconvert_exporter": "python",
   "pygments_lexer": "ipython3",
   "version": "3.10.6"
  }
 },
 "nbformat": 4,
 "nbformat_minor": 5
}
